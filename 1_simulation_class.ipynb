{
 "cells": [
  {
   "cell_type": "markdown",
   "id": "aadc85a9",
   "metadata": {},
   "source": [
    "# Developer's tutorial\n",
    "\n",
    "## Purpose\n",
    "\n",
    "XXX\n",
    "\n",
    "## Set up\n",
    "\n",
    "XXX\n",
    "\n",
    "## Content\n",
    "\n",
    "- Write a scratch code \n",
    "- Turn that into SimPEG classes"
   ]
  },
  {
   "cell_type": "markdown",
   "id": "0e713e9b",
   "metadata": {},
   "source": [
    "# Write a scratch code"
   ]
  },
  {
   "cell_type": "code",
   "execution_count": 94,
   "id": "74c887fa",
   "metadata": {},
   "outputs": [],
   "source": [
    "# define a time mesh\n",
    "from discretize import TensorMesh\n",
    "from numpy.polynomial import polynomial\n",
    "\n",
    "nt = 1000\n",
    "ht = np.ones(nt) * 0.001\n",
    "time_mesh = TensorMesh([ht], x0=[0.])\n",
    "\n",
    "# define measuring points (receiver)\n",
    "measured_times = np.array([0.053, 0.214, 0.435, 0.898, 0.923])\n",
    "\n",
    "# define a linear interpolation matrix to evaluate data at measured times. \n",
    "# dimension of a matrix, Pt, is [size of the field x size of the data]\n",
    "Pt = time_mesh.get_interpolation_matrix(measured_times, location_type='N')\n",
    "\n",
    "# model is a vector containing coefficents of the 1D polynomial\n",
    "# Example: Evaluate f(t) = 2t^3 - 5t^2 + 3t - 7\n",
    "m = [2, -5, 3, -7]\n",
    "time_nodes = time_mesh.nodes_x\n",
    "fields = polynomial.polyval(time_nodes, m)\n",
    "data = Pt * fields\n",
    "\n",
    "def func(m, x):\n",
    "    return m[3]*x**3 + m[2]*x**2 + m[1]*x + m[0]"
   ]
  },
  {
   "cell_type": "code",
   "execution_count": 95,
   "id": "8590987a",
   "metadata": {},
   "outputs": [
    {
     "data": {
      "text/plain": [
       "Text(0, 0.5, 'Geophysical data')"
      ]
     },
     "execution_count": 95,
     "metadata": {},
     "output_type": "execute_result"
    },
    {
     "data": {
      "image/png": "[encoded data removed]",
      "text/plain": [
       "<Figure size 640x480 with 1 Axes>"
      ]
     },
     "metadata": {},
     "output_type": "display_data"
    }
   ],
   "source": [
    "import matplotlib.pyplot as plt\n",
    "plt.plot(time_nodes, fields, label='fields')\n",
    "plt.plot(measured_times, data, 'o', label='measured data')\n",
    "plt.plot(measured_times, func(m, measured_times), 'x')\n",
    "plt.legend()\n",
    "plt.xlabel(\"Time (s)\")\n",
    "plt.ylabel(\"Geophysical data\")"
   ]
  },
  {
   "cell_type": "code",
   "execution_count": 103,
   "id": "c70c6bc7",
   "metadata": {},
   "outputs": [],
   "source": [
    "# calculate derivatives\n",
    "\n",
    "# caculate derivatives for fields\n",
    "dfields_dm = polynomial.polyvander(time_nodes, len(m)-1)\n",
    "\n",
    "# evaluate derivatives on the measured times; this is often referred to a Jacobian Matrix\n",
    "dd_dm = Pt @ dfields_dm"
   ]
  },
  {
   "cell_type": "markdown",
   "id": "ab6c2fff",
   "metadata": {},
   "source": [
    "We finished progamming a scratch code that can calculate forward response and its sensitivity function. Let's put togehter these scratch codes into SimPEG classes. \n",
    "\n",
    "- `Simulation` class\n",
    "- `Survey` class\n",
    "- `Source` class\n",
    "- `Receiver` class\n"
   ]
  },
  {
   "cell_type": "markdown",
   "id": "f70345e2",
   "metadata": {},
   "source": [
    "# Turn scratch codes into SimPEG classes "
   ]
  },
  {
   "cell_type": "markdown",
   "id": "cb7d25b1",
   "metadata": {},
   "source": [
    "## `Simulation` class"
   ]
  },
  {
   "cell_type": "code",
   "execution_count": 9,
   "id": "22cb42fd",
   "metadata": {},
   "outputs": [],
   "source": [
    "from SimPEG.simulation import BaseSimulation\n",
    "from SimPEG import props"
   ]
  },
  {
   "cell_type": "code",
   "execution_count": 125,
   "id": "9e0d886a-27e2-4747-ae07-480605268aa5",
   "metadata": {},
   "outputs": [],
   "source": [
    "class PolynomialSimulation(BaseSimulation):\n",
    "    \"\"\"\n",
    "    Class for a geophysical simulation of the form\n",
    "\n",
    "    .. math::\n",
    "\n",
    "        d = F[m]\n",
    "\n",
    "    where :math:`d` is a vector of the data, `F` is a polynomial function takes \n",
    "    a model, `m`, (i.e., polynomial coefficients) and outputs the data. \n",
    "    :math:`m` is the model.\n",
    "    \"\"\"\n",
    "\n",
    "    poly_model, poly_map, poly_deriv = props.Invertible(\n",
    "        \"The model for a polynomial problem\"\n",
    "    )\n",
    "\n",
    "    def __init__(self, mesh=None, poly_model=None, poly_map=None, **kwargs):\n",
    "        super().__init__(mesh=mesh, **kwargs)\n",
    "        self.poly_model = poly_model\n",
    "        self.poly_map = poly_map\n",
    "        self.solver = None\n",
    "\n",
    "    def fields(self, m):\n",
    "        self.model = m\n",
    "        f = polynomial.polyval(self.mesh.nodes_x, m)\n",
    "        return f\n",
    "\n",
    "    def dpred(self, m=None, f=None):\n",
    "        \n",
    "        self.model = m\n",
    "        \n",
    "        if f is None:\n",
    "            f = self.fields(m)            \n",
    "        # Assume a single source\n",
    "        src = self.survey.source_list[0]\n",
    "        # Assume a single receiver\n",
    "        rx = src.receiver_list[0]\n",
    "        data = rx.getP(self.mesh, 'nodes') @ f\n",
    "        return data\n",
    "\n",
    "    def Jvec(self, m, v, f=None):\n",
    "        self.model = m        \n",
    "        # caculate derivatives for fields\n",
    "        dfields_dm = polynomial.polyvander(self.mesh.nodes_x, len(m)-1)\n",
    "        # evaluate derivatives on the measured times; this is often referred to a Jacobian Matrix\n",
    "        J = rx.getP(self.mesh, 'nodes') @ dfields_dm                \n",
    "        return J @ v\n",
    "\n",
    "    def Jtvec(self, m, v, f=None):\n",
    "        self.model = m        \n",
    "        # caculate derivatives for fields\n",
    "        dfields_dm = polynomial.polyvander(self.mesh.nodes_x, len(m)-1)\n",
    "        # evaluate derivatives on the measured times; this is often referred to a Jacobian Matrix\n",
    "        J = rx.getP(self.mesh, 'nodes') @ dfields_dm                \n",
    "        return J.T @ v"
   ]
  },
  {
   "cell_type": "code",
   "execution_count": 129,
   "id": "7e406dc6",
   "metadata": {},
   "outputs": [],
   "source": [
    "from SimPEG.survey import BaseSrc, BaseRx, BaseSurvey\n",
    "from SimPEG.maps import IdentityMap"
   ]
  },
  {
   "cell_type": "code",
   "execution_count": 135,
   "id": "a9499493",
   "metadata": {},
   "outputs": [],
   "source": [
    "receiver = BaseRx(locations=measured_times.reshape([-1,1]))\n",
    "receiver_list = [receiver]\n",
    "source = BaseSrc(receiver_list=receiver_list)\n",
    "source_list = [source]\n",
    "survey = BaseSurvey(source_list)\n",
    "simulation = PolynomialSimulation(mesh=time_mesh, survey=survey, poly_map=IdentityMap(nP=len(m)))"
   ]
  },
  {
   "cell_type": "code",
   "execution_count": 136,
   "id": "1cbae226",
   "metadata": {},
   "outputs": [
    {
     "data": {
      "text/plain": [
       "array([ 1.74238486,  0.99878559, -0.18351512, -5.13984354, -5.56352627])"
      ]
     },
     "execution_count": 136,
     "metadata": {},
     "output_type": "execute_result"
    }
   ],
   "source": [
    "simulation.dpred(m)"
   ]
  },
  {
   "cell_type": "code",
   "execution_count": null,
   "id": "e62a49a1",
   "metadata": {},
   "outputs": [],
   "source": []
  }
 ],
 "metadata": {
  "kernelspec": {
   "display_name": "Python 3 (ipykernel)",
   "language": "python",
   "name": "python3"
  },
  "language_info": {
   "codemirror_mode": {
    "name": "ipython",
    "version": 3
   },
   "file_extension": ".py",
   "mimetype": "text/x-python",
   "name": "python",
   "nbconvert_exporter": "python",
   "pygments_lexer": "ipython3",
   "version": "3.10.9"
  }
 },
 "nbformat": 4,
 "nbformat_minor": 5
}
